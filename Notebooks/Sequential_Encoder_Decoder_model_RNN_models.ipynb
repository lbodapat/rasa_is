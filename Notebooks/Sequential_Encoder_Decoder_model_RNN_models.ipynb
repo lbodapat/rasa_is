{
  "cells": [
    {
      "cell_type": "code",
      "execution_count": null,
      "metadata": {
        "id": "-EptZTCT0edx"
      },
      "outputs": [],
      "source": [
        "from google.colab import files\n",
        "# uploaded = files.upload()\n",
        "# file_name = \"AntiScam_all.txt\"\n",
        "# data = uploaded[file_name].decode(\"latin-1\").split(\"\\r\\n\")\n",
        "\n",
        "with open(\"AntiScam_all.txt\", \"rb\") as f:\n",
        "    contents = f.read().decode(\"latin-1\").split(\"\\r\\n\")\n",
        "# print(contents)\n",
        "data=contents"
      ]
    },
    {
      "cell_type": "code",
      "execution_count": null,
      "metadata": {
        "id": "c0nwyYFE1ub-"
      },
      "outputs": [],
      "source": [
        "# 0-scammer\n",
        "# 1-client\n",
        "# In current code, bot is the client.(1)"
      ]
    },
    {
      "cell_type": "code",
      "execution_count": null,
      "metadata": {
        "id": "4idPVrTJ2-hp"
      },
      "outputs": [],
      "source": [
        "# data[0:15]"
      ]
    },
    {
      "cell_type": "code",
      "source": [],
      "metadata": {
        "id": "Cv4bZjzOckgG"
      },
      "execution_count": null,
      "outputs": []
    },
    {
      "cell_type": "code",
      "execution_count": null,
      "metadata": {
        "id": "v843EhHkDL8W"
      },
      "outputs": [],
      "source": [
        "# Default word tokens\n",
        "PAD_token = 0  # Used for padding short sentences\n",
        "SOS_token = 1  # Start-of-sentence token\n",
        "EOS_token = 2  # End-of-sentence token\n",
        "\n",
        "class Voc:\n",
        "    def __init__(self, name):\n",
        "        self.name = name\n",
        "        self.trimmed = False\n",
        "        # Mapping word to numeric id\n",
        "        self.word2index = {}\n",
        "        # Mapping numeric id to word\n",
        "        self.word2count = {}\n",
        "        self.index2word = {PAD_token: \"PAD\", SOS_token: \"SOS\", EOS_token: \"EOS\"}\n",
        "        self.num_words = 3  # Count SOS, EOS, PAD\n",
        "\n",
        "    def addSentence(self, sentence):\n",
        "        for word in sentence.split(' '):\n",
        "            self.addWord(word)\n",
        "\n",
        "    def addWord(self, word):\n",
        "        if word not in self.word2index:\n",
        "            self.word2index[word] = self.num_words\n",
        "            self.word2count[word] = 1\n",
        "            self.index2word[self.num_words] = word\n",
        "            self.num_words += 1\n",
        "        else:\n",
        "            self.word2count[word] += 1\n",
        "\n",
        "    # Remove words below a certain count threshold\n",
        "    def trim(self, min_count):\n",
        "        if self.trimmed:\n",
        "            return\n",
        "        self.trimmed = True\n",
        "\n",
        "        keep_words = []\n",
        "\n",
        "        for k, v in self.word2count.items():\n",
        "            if v >= min_count:\n",
        "                keep_words.append(k)\n",
        "\n",
        "        print('keep_words {} / {} = {:.4f}'.format(\n",
        "            len(keep_words), len(self.word2index), len(keep_words) / len(self.word2index)\n",
        "        ))\n",
        "\n",
        "        # Reinitialize dictionaries\n",
        "        self.word2index = {}\n",
        "        self.word2count = {}\n",
        "        self.index2word = {PAD_token: \"PAD\", SOS_token: \"SOS\", EOS_token: \"EOS\"}\n",
        "        self.num_words = 3 # Count default tokens\n",
        "\n",
        "        for word in keep_words:\n",
        "            self.addWord(word)"
      ]
    },
    {
      "cell_type": "code",
      "execution_count": null,
      "metadata": {
        "id": "JhS3aTiAJNMY"
      },
      "outputs": [],
      "source": [
        "import os\n",
        "import torch\n",
        "from torch.jit import script, trace\n",
        "import torch.nn as nn\n",
        "from torch import optim\n",
        "import torch.nn.functional as F\n",
        "import csv\n",
        "import random\n",
        "import re\n",
        "import os\n",
        "import unicodedata\n",
        "import codecs\n",
        "from io import open\n",
        "import itertools\n",
        "import math\n",
        "\n",
        "\n",
        "USE_CUDA = torch.cuda.is_available()\n",
        "device = torch.device(\"cuda\" if USE_CUDA else \"cpu\")"
      ]
    },
    {
      "cell_type": "code",
      "execution_count": null,
      "metadata": {
        "colab": {
          "base_uri": "https://localhost:8080/"
        },
        "id": "W6Swgf0rEvd5",
        "outputId": "6d3b3fb4-cfa2-46bb-e89a-6e17b105feef"
      },
      "outputs": [
        {
          "output_type": "stream",
          "name": "stdout",
          "text": [
            "\n",
            "pairs:\n",
            "['Hello my name is NAMESLOT and I am with Amazon customer support.', '\"Yes, Hello NAMESLOT.\"']\n",
            "['Hello my name is NAMESLOT and I am with Amazon customer support.', 'I recently purchased a heater but it has not arrived']\n",
            "['I recently purchased a heater but it has not arrived', \"I'm sorry to hear that.\"]\n",
            "['I recently purchased a heater but it has not arrived', 'Can I have your name and address to look this up?']\n",
            "['Can I have your name and address to look this up?', 'Why is my address necessary NAMESLOT?']\n"
          ]
        }
      ],
      "source": [
        "MAX_LENGTH = 15  # Maximum sentence length to consider\n",
        "def unicodeToAscii(s):\n",
        "    return ''.join(\n",
        "        c for c in unicodedata.normalize('NFD', s)\n",
        "        if unicodedata.category(c) != 'Mn'\n",
        "    )\n",
        "\n",
        "def extractSentencePairs(data):\n",
        "  qa_pairs = []\n",
        "  last_bot_line=\"\"\n",
        "  last_client_line=\"\"\n",
        "  for i in range(len(data)-1):\n",
        "    inputLine = data[i].split(\"\\t\")\n",
        "    targetLine = data[i+1].split(\"\\t\")\n",
        "    #Checking if not blank case\n",
        "    if (inputLine[0]=='1' or inputLine[0]=='0') and (targetLine[0]=='1' or targetLine[0]=='0'):\n",
        "      if inputLine[0]=='0' and targetLine[0]=='1':\n",
        "        qa_pairs.append([inputLine[1], targetLine[1]])\n",
        "        last_bot_line=inputLine[1]\n",
        "      elif inputLine[0]=='1' and targetLine[0]=='0':\n",
        "        qa_pairs.append([inputLine[1], targetLine[1]])\n",
        "        last_client_line=inputLine[1]\n",
        "      elif inputLine[0]=='1' and targetLine[0]=='1':\n",
        "        qa_pairs.append([last_bot_line, targetLine[1]])\n",
        "      elif inputLine[0]=='0' and targetLine[0]=='0':\n",
        "        qa_pairs.append([last_client_line, targetLine[1]])\n",
        "  return qa_pairs\n",
        "  \n",
        "\n",
        "# def extractSentencePairs(data):\n",
        "#   qa_pairs = []\n",
        "#   last_bot_line=\"\"\n",
        "#   last_client_line=\"\"\n",
        "#   for i in range(len(data)-1):\n",
        "#     inputLine = data[i].split(\"\\t\")\n",
        "#     targetLine = data[i+1].split(\"\\t\")\n",
        "#     #Checking if not blank case\n",
        "#     if (inputLine[0]=='1' or inputLine[0]=='0') and (targetLine[0]=='1' or targetLine[0]=='0'):\n",
        "#       if inputLine[0]=='0' and targetLine[0]=='1':\n",
        "#         qa_pairs.append([normalizeString(inputLine[1]), normalizeString(targetLine[1])])\n",
        "#         last_bot_line=normalizeString(inputLine[1])\n",
        "#       elif inputLine[0]=='1' and targetLine[0]=='0':\n",
        "#         qa_pairs.append([normalizeString(inputLine[1]), normalizeString(targetLine[1])])\n",
        "#         last_client_line=normalizeString(inputLine[1])\n",
        "#       elif inputLine[0]=='1' and targetLine[0]=='1':\n",
        "#         qa_pairs.append([normalizeString(last_bot_line), normalizeString(targetLine[1])])\n",
        "#       elif inputLine[0]=='0' and targetLine[0]=='0':\n",
        "#         qa_pairs.append([normalizeString(last_client_line), normalizeString(targetLine[1])])\n",
        "#   return qa_pairs\n",
        "\n",
        "# Lowercase, trim, and remove non-letter characters\n",
        "def normalizeString(s):\n",
        "    s = unicodeToAscii(s.lower().strip())\n",
        "    s = re.sub(r\"([.!?])\", r\" \\1\", s)\n",
        "    s = re.sub(r\"[^a-zA-Z.!?]+\", r\" \", s)\n",
        "    s = re.sub(r\"\\s+\", r\" \", s).strip()\n",
        "    return s\n",
        "\n",
        "# Read query/response pairs and return a voc object\n",
        "def readVocs(corpus_name):\n",
        "    # Split every line into pairs and normalize\n",
        "    pairs = extractSentencePairs(data)\n",
        "    voc = Voc(corpus_name)\n",
        "    return voc, pairs\n",
        "\n",
        "# Returns True iff both sentences in a pair 'p' are under the MAX_LENGTH threshold\n",
        "def filterPair(p):\n",
        "    return len(p[0].split(' ')) < MAX_LENGTH and len(p[1].split(' ')) < MAX_LENGTH\n",
        "\n",
        "# Filter pairs using filterPair condition\n",
        "def filterPairs(pairs):\n",
        "    return [pair for pair in pairs if filterPair(pair)]\n",
        "\n",
        "# Using the functions defined above, return a populated voc object and pairs list\n",
        "def loadPrepareData(corpus_name):\n",
        "    voc, pairs = readVocs(corpus_name)\n",
        "    pairs = filterPairs(pairs)\n",
        "    for pair in pairs:\n",
        "        voc.addSentence(pair[0])\n",
        "        voc.addSentence(pair[1])\n",
        "    return voc, pairs\n",
        "\n",
        "corpus_name =\"testcorpus\"\n",
        "# Load/Assemble voc and pairs\n",
        "save_dir = os.path.join(\"data\", \"save\")\n",
        "voc, pairs = loadPrepareData(corpus_name)\n",
        "# Print some pairs to validate\n",
        "print(\"\\npairs:\")\n",
        "for pair in pairs[:5]:\n",
        "    print(pair)"
      ]
    },
    {
      "cell_type": "code",
      "source": [
        "# pairs"
      ],
      "metadata": {
        "id": "2hYB2jjaUzdc"
      },
      "execution_count": null,
      "outputs": []
    },
    {
      "cell_type": "code",
      "execution_count": null,
      "metadata": {
        "colab": {
          "base_uri": "https://localhost:8080/"
        },
        "id": "UN2MZ86XKc_n",
        "outputId": "d3e8c2d5-8dcd-485f-d161-0b2abc96719a"
      },
      "outputs": [
        {
          "output_type": "stream",
          "name": "stdout",
          "text": [
            "keep_words 2646 / 4624 = 0.5722\n",
            "Trimmed from 6291 pairs to 4180, 0.6644 of total\n"
          ]
        }
      ],
      "source": [
        "MIN_COUNT = 3    # Minimum word count threshold for trimming\n",
        "\n",
        "def trimRareWords(voc, pairs, MIN_COUNT):\n",
        "    # Trim words used under the MIN_COUNT from the voc\n",
        "    voc.trim(MIN_COUNT)\n",
        "    # Filter out pairs with trimmed words\n",
        "    keep_pairs = []\n",
        "    for pair in pairs:\n",
        "        input_sentence = pair[0]\n",
        "        output_sentence = pair[1]\n",
        "        keep_input = True\n",
        "        keep_output = True\n",
        "        # Check input sentence\n",
        "        for word in input_sentence.split(' '):\n",
        "            if word not in voc.word2index:\n",
        "                keep_input = False\n",
        "                break\n",
        "        # Check output sentence\n",
        "        for word in output_sentence.split(' '):\n",
        "            if word not in voc.word2index:\n",
        "                keep_output = False\n",
        "                break\n",
        "\n",
        "        # Only keep pairs that do not contain trimmed word(s) in their input or output sentence\n",
        "        if keep_input and keep_output:\n",
        "            keep_pairs.append(pair)\n",
        "\n",
        "    print(\"Trimmed from {} pairs to {}, {:.4f} of total\".format(len(pairs), len(keep_pairs), len(keep_pairs) / len(pairs)))\n",
        "    return keep_pairs\n",
        "\n",
        "# Trim voc and pairs\n",
        "pairs = trimRareWords(voc, pairs, MIN_COUNT)"
      ]
    },
    {
      "cell_type": "code",
      "execution_count": null,
      "metadata": {
        "colab": {
          "base_uri": "https://localhost:8080/"
        },
        "id": "VAZA_T6PLZKk",
        "outputId": "33f3df37-7bc0-48c5-f55b-9b21c7c0a3bc"
      },
      "outputs": [
        {
          "output_type": "execute_result",
          "data": {
            "text/plain": [
              "['Hello my name is NAMESLOT and I am with Amazon customer support.',\n",
              " '\"Yes, Hello NAMESLOT.\"']"
            ]
          },
          "metadata": {},
          "execution_count": 80
        }
      ],
      "source": [
        "pairs[0]"
      ]
    },
    {
      "cell_type": "code",
      "source": [
        "import re\n",
        "for pair in pairs:\n",
        "  pair[0]=re.sub(\",\", \"\", pair[0])\n",
        "  pair[1]=re.sub(\",\", \"\", pair[1])"
      ],
      "metadata": {
        "id": "N3lyQXDWmJA0"
      },
      "execution_count": null,
      "outputs": []
    },
    {
      "cell_type": "code",
      "source": [
        "pairs[0]"
      ],
      "metadata": {
        "colab": {
          "base_uri": "https://localhost:8080/"
        },
        "id": "ETz3jOVMme89",
        "outputId": "cd0d69e1-2c86-40f7-f18d-a9e77f5370e3"
      },
      "execution_count": null,
      "outputs": [
        {
          "output_type": "execute_result",
          "data": {
            "text/plain": [
              "['Hello my name is NAMESLOT and I am with Amazon customer support.',\n",
              " '\"Yes Hello NAMESLOT.\"']"
            ]
          },
          "metadata": {},
          "execution_count": 82
        }
      ]
    },
    {
      "cell_type": "code",
      "source": [
        "list_strs=[]\n",
        "for pair in pairs:\n",
        "  line= pair[0]+\",\"+pair[1]\n",
        "  list_strs.append(line)"
      ],
      "metadata": {
        "id": "rVRlZ8IUq149"
      },
      "execution_count": null,
      "outputs": []
    },
    {
      "cell_type": "code",
      "source": [
        "for l in list_strs[:10]:\n",
        "  print(l)"
      ],
      "metadata": {
        "colab": {
          "base_uri": "https://localhost:8080/"
        },
        "id": "ttX4BKtIwrt-",
        "outputId": "06bb942e-5a04-433d-818d-f6384db98982"
      },
      "execution_count": null,
      "outputs": [
        {
          "output_type": "stream",
          "name": "stdout",
          "text": [
            "Hello my name is NAMESLOT and I am with Amazon customer support.,\"Yes Hello NAMESLOT.\"\n",
            "Hello my name is NAMESLOT and I am with Amazon customer support.,I recently purchased a heater but it has not arrived\n",
            "I recently purchased a heater but it has not arrived,I'm sorry to hear that.\n",
            "I recently purchased a heater but it has not arrived,Can I have your name and address to look this up?\n",
            "Can I have your name and address to look this up?,Why is my address necessary NAMESLOT?\n",
            "Alright before I proceed may I have your full name for personal record.,I can give you my employee number if you need.\n",
            "I can give you my employee number if you need.,\"Ok what is your employee number?\"\n",
            "NAMESLOT,NAMESLOT.\n",
            "NAMESLOT,I am seeing a customers by that name.\n",
            "NAMESLOT,Did you order with a credit card?\n"
          ]
        }
      ]
    },
    {
      "cell_type": "code",
      "execution_count": null,
      "metadata": {
        "id": "KfxFwRIULfSi"
      },
      "outputs": [],
      "source": [
        "import pickle\n",
        "pickle.dump(pairs, open('./pairs.pickle', 'wb'))"
      ]
    },
    {
      "cell_type": "code",
      "execution_count": null,
      "metadata": {
        "colab": {
          "base_uri": "https://localhost:8080/"
        },
        "id": "JDxAjbQhLxHM",
        "outputId": "1931b7b9-26fe-4691-b92c-02ca7dd34329"
      },
      "outputs": [
        {
          "name": "stdout",
          "output_type": "stream",
          "text": [
            "Looking in indexes: https://pypi.org/simple, https://us-python.pkg.dev/colab-wheels/public/simple/\n",
            "Collecting tokenizers\n",
            "  Downloading tokenizers-0.13.1-cp37-cp37m-manylinux_2_17_x86_64.manylinux2014_x86_64.whl (7.6 MB)\n",
            "\u001b[K     |████████████████████████████████| 7.6 MB 8.9 MB/s \n",
            "\u001b[?25hInstalling collected packages: tokenizers\n",
            "Successfully installed tokenizers-0.13.1\n"
          ]
        }
      ],
      "source": [
        "!pip install tokenizers"
      ]
    },
    {
      "cell_type": "code",
      "execution_count": null,
      "metadata": {
        "colab": {
          "base_uri": "https://localhost:8080/"
        },
        "id": "SYmGibFELmIB",
        "outputId": "50772520-c7db-49a8-c534-e13ba497658c"
      },
      "outputs": [
        {
          "name": "stdout",
          "output_type": "stream",
          "text": [
            "Hello my name is NAMESLOT and I am with Amazon customer support. \"Yes, Hello NAMESLOT.\"Hello my name is NAMESLOT and I am with Amazon customer support. I recently purchased a heater but it has not arrivedI recently purchased a heater but it has not arrived I'm sorry to hear that.I recently purchased\n"
          ]
        }
      ],
      "source": [
        "from tokenizers import ByteLevelBPETokenizer\n",
        "\n",
        "corpus = \"\"\n",
        "for i in pairs:\n",
        "    corpus += \" \".join(i)\n",
        "\n",
        "print(corpus[:300])\n",
        "f = open('./corpus.txt', 'w')\n",
        "f.write(corpus) \n",
        "f.close()"
      ]
    },
    {
      "cell_type": "code",
      "execution_count": null,
      "metadata": {
        "colab": {
          "base_uri": "https://localhost:8080/"
        },
        "id": "Ija8jEn-jxYK",
        "outputId": "61c8540a-46fa-4f20-e5fc-ca571ae975f8"
      },
      "outputs": [
        {
          "data": {
            "text/plain": [
              "['./test_s2s-vocab.json', './test_s2s-merges.txt']"
            ]
          },
          "execution_count": 84,
          "metadata": {},
          "output_type": "execute_result"
        }
      ],
      "source": [
        "# Initialize the BPE tokenizer by huggingface\n",
        "tokenizer = ByteLevelBPETokenizer()\n",
        "tokenizer.train(files=['./corpus.txt'], vocab_size=9000, min_frequency=2, special_tokens=[\n",
        "    \"<s>\",\n",
        "    \"<pad>\",\n",
        "    \"</s>\",\n",
        "    \"<unk>\",\n",
        "    \"<mask>\",\n",
        "])\n",
        "tokenizer.save_model(\".\", \"test_s2s\")"
      ]
    },
    {
      "cell_type": "code",
      "execution_count": null,
      "metadata": {
        "colab": {
          "base_uri": "https://localhost:8080/"
        },
        "id": "sJZOZ5yRmKOy",
        "outputId": "11dd635c-e1e4-413b-9254-221627a7e3f2"
      },
      "outputs": [
        {
          "data": {
            "text/plain": [
              "3190"
            ]
          },
          "execution_count": 85,
          "metadata": {},
          "output_type": "execute_result"
        }
      ],
      "source": [
        "import json\n",
        "crp = json.load(open('./test_s2s-vocab.json','r'))\n",
        "len(crp)"
      ]
    },
    {
      "cell_type": "code",
      "execution_count": null,
      "metadata": {
        "colab": {
          "base_uri": "https://localhost:8080/"
        },
        "id": "6FeaimCVmQoJ",
        "outputId": "f4c8ecf5-b85f-4b92-9f38-37d6d3c5b2c7"
      },
      "outputs": [
        {
          "name": "stdout",
          "output_type": "stream",
          "text": [
            "Encoding(num_tokens=5, attributes=[ids, type_ids, tokens, offsets, attention_mask, special_tokens_mask, overflowing])\n"
          ]
        }
      ],
      "source": [
        "from tokenizers.implementations import ByteLevelBPETokenizer\n",
        "from tokenizers.processors import BertProcessing\n",
        "\n",
        "# After the tokenizer is trained, we initialize the tokenizer with the created\n",
        "# vocab and merges file. we specify the processing functionalities to be similar \n",
        "# to BERT. i.e we can leverage attention_masks, type_ids, ids .etc. functionalities\n",
        "# with the initialized tokenizer.\n",
        "\n",
        "# We also spicify the tokenizer to automatically pad each sentence to the max_length\n",
        "# of the corpus, and enable truncation to length of 50 tokens.\n",
        "\n",
        "# All these functionalities with just a few lines of code !!\n",
        "\n",
        "tokenizer = ByteLevelBPETokenizer('./test_s2s-vocab.json', \n",
        "                                  './test_s2s-merges.txt')\n",
        "tokenizer._tokenizer.post_processor = BertProcessing(\n",
        "    (\"</s>\", tokenizer.token_to_id(\"</s>\")),\n",
        "    (\"<s>\", tokenizer.token_to_id(\"<s>\")),\n",
        ")\n",
        "tokenizer.enable_truncation(max_length=128)\n",
        "tokenizer.enable_padding(pad_id=1, pad_token='<pad>')\n",
        "\n",
        "print(tokenizer.encode(\"hello world\"))"
      ]
    },
    {
      "cell_type": "code",
      "execution_count": null,
      "metadata": {
        "colab": {
          "base_uri": "https://localhost:8080/"
        },
        "id": "nYqMxqM3md4Y",
        "outputId": "7cc3b32d-d8b6-4f17-e47e-8c438701abba"
      },
      "outputs": [
        {
          "name": "stdout",
          "output_type": "stream",
          "text": [
            "[0, 1074, 578, 359, 2]\n",
            "<s>hello world</s>\n"
          ]
        }
      ],
      "source": [
        "# Let's test out some functionalities of the tokenizer\n",
        "print(tokenizer.encode(\"hello world\").ids)\n",
        "print(tokenizer.decode(tokenizer.encode(\"hello world\").ids))"
      ]
    },
    {
      "cell_type": "code",
      "execution_count": null,
      "metadata": {
        "colab": {
          "base_uri": "https://localhost:8080/"
        },
        "id": "Nk41ctkIm7Mv",
        "outputId": "bff14d47-12be-4163-bfaa-afabe521ac7c"
      },
      "outputs": [
        {
          "name": "stdout",
          "output_type": "stream",
          "text": [
            "4180 4180\n"
          ]
        }
      ],
      "source": [
        "\n",
        "# Split pairs into 2 lists: query(X) & response(Y)\n",
        "X, Y = [], []\n",
        "for pair in pairs:\n",
        "    X.append(pair[0])\n",
        "    Y.append(pair[1])\n",
        "\n",
        "print(len(X), len(Y))"
      ]
    },
    {
      "cell_type": "code",
      "execution_count": null,
      "metadata": {
        "colab": {
          "base_uri": "https://localhost:8080/"
        },
        "id": "s81uo4frm-bz",
        "outputId": "fae023c4-3311-465c-a7b7-b815fce5b9a0"
      },
      "outputs": [
        {
          "name": "stdout",
          "output_type": "stream",
          "text": [
            "4180 4180\n"
          ]
        }
      ],
      "source": [
        "# We can tokenize, encode & pad all the queries & responses\n",
        "# by just invoking the encode_batch function !!\n",
        "\n",
        "X_tokenized = [i.ids for i in tokenizer.encode_batch(X)]\n",
        "Y_tokenized = [i.ids for i in tokenizer.encode_batch(Y)]\n",
        "print(len(X_tokenized), len(Y_tokenized))"
      ]
    },
    {
      "cell_type": "code",
      "execution_count": null,
      "metadata": {
        "colab": {
          "base_uri": "https://localhost:8080/"
        },
        "id": "QRuZRF2PnE54",
        "outputId": "3c18de9a-72d6-4e3e-8e5a-09f85b23c2da"
      },
      "outputs": [
        {
          "name": "stdout",
          "output_type": "stream",
          "text": [
            "[0, 580, 332, 340, 291, 456, 330, 276, 394, 362, 349, 541, 1631, 18, 2, 1, 1, 1, 1, 1, 1, 1, 1, 1, 1, 1, 1, 1, 1, 1]\n",
            "<s>Hello my name is NAMESLOT and I am with Amazon customer support.</s><pad><pad><pad><pad><pad><pad><pad><pad><pad><pad><pad><pad><pad><pad><pad> \n",
            " Hello my name is NAMESLOT and I am with Amazon customer support.\n"
          ]
        }
      ],
      "source": [
        "#Lets look at one tokenized sentence\n",
        "print(X_tokenized[0])\n",
        "print(tokenizer.decode(X_tokenized[0]),\"\\n\",X[0])"
      ]
    },
    {
      "cell_type": "code",
      "execution_count": null,
      "metadata": {
        "colab": {
          "base_uri": "https://localhost:8080/"
        },
        "id": "gjAR1m-gnK2H",
        "outputId": "8a812d4f-ab85-412a-98da-2748fb380396"
      },
      "outputs": [
        {
          "name": "stdout",
          "output_type": "stream",
          "text": [
            "3344 3344 418 418 418 418\n"
          ]
        }
      ],
      "source": [
        "from sklearn.model_selection import train_test_split\n",
        "\n",
        "# Create 80:10:10 training, testing and validation splits\n",
        "\n",
        "X_train, X_test, Y_train, Y_test = train_test_split(X_tokenized, Y_tokenized, \n",
        "                                                    test_size=0.2, random_state=42)\n",
        "X_valid, X_test, Y_valid, Y_test = train_test_split(X_test, Y_test, \n",
        "                                                    test_size=0.5, random_state=42)\n",
        "\n",
        "print(len(X_train), len(Y_train), len(X_valid), len(Y_valid), len(X_test), len(Y_test))"
      ]
    },
    {
      "cell_type": "code",
      "execution_count": null,
      "metadata": {
        "colab": {
          "base_uri": "https://localhost:8080/"
        },
        "id": "fjFnDvFSnQfl",
        "outputId": "f4004a27-a4ff-4ea8-bc99-7edd536cdadb"
      },
      "outputs": [
        {
          "name": "stderr",
          "output_type": "stream",
          "text": [
            "/usr/local/lib/python3.7/dist-packages/ipykernel_launcher.py:10: UserWarning: To copy construct from a tensor, it is recommended to use sourceTensor.clone().detach() or sourceTensor.clone().detach().requires_grad_(True), rather than torch.tensor(sourceTensor).\n",
            "  # Remove the CWD from sys.path while we load stuff.\n",
            "/usr/local/lib/python3.7/dist-packages/ipykernel_launcher.py:11: UserWarning: To copy construct from a tensor, it is recommended to use sourceTensor.clone().detach() or sourceTensor.clone().detach().requires_grad_(True), rather than torch.tensor(sourceTensor).\n",
            "  # This is added back by InteractiveShellApp.init_path()\n"
          ]
        }
      ],
      "source": [
        "from torch.utils.data import TensorDataset, DataLoader, RandomSampler, SequentialSampler\n",
        "\n",
        "# Below we define a function to create train, test & valid dataloaders in Pytorch\n",
        "\n",
        "batch_size = 128\n",
        "\n",
        "def get_dataloader(x, y):\n",
        "    x = torch.tensor(x).long()  #batch , max_len\n",
        "    y = torch.tensor(y).long()  #batch , max_len\n",
        "    x_lens = torch.sum(torch.tensor(x) != 1, 1) #batch\n",
        "    y_lens = torch.sum(torch.tensor(y) != 1, 1) #batch\n",
        "\n",
        "    data = TensorDataset(x, x_lens, y, y_lens)\n",
        "    sampler = RandomSampler(data)\n",
        "    dataloader = DataLoader(data, sampler=sampler, batch_size=batch_size)\n",
        "\n",
        "    return dataloader\n",
        "\n",
        "train_datalaoder = get_dataloader(X_train, Y_train)\n",
        "valid_datalaoder = get_dataloader(X_valid, Y_valid)\n",
        "test_datalaoder = get_dataloader(X_test, Y_test)"
      ]
    },
    {
      "cell_type": "code",
      "execution_count": null,
      "metadata": {
        "colab": {
          "base_uri": "https://localhost:8080/"
        },
        "id": "5P3nW7LonVIg",
        "outputId": "ee137633-0d69-4cde-a6c1-677f5317fd22"
      },
      "outputs": [
        {
          "name": "stdout",
          "output_type": "stream",
          "text": [
            "torch.Size([128, 30]) torch.Size([128]) torch.Size([128, 24]) torch.Size([128])\n"
          ]
        }
      ],
      "source": [
        "# Sanity check that the tensors returned by the dataloader are correct\n",
        "\n",
        "for batch in train_datalaoder:\n",
        "    x, x_lens, y, y_lens = batch\n",
        "    print(x.shape, x_lens.shape, y.shape, y_lens.shape)\n",
        "    break\n"
      ]
    },
    {
      "cell_type": "code",
      "execution_count": null,
      "metadata": {
        "id": "70dM_B2YnjZ2"
      },
      "outputs": [],
      "source": [
        "class EncoderRNN(nn.Module):\n",
        "    def __init__(self, hidden_size, embedding, device, n_layers=1, dropout=0):\n",
        "        super().__init__()\n",
        "        self.n_layers = n_layers\n",
        "        self.hidden_size = hidden_size\n",
        "        self.embedding = embedding\n",
        "        self.directions = 2\n",
        "        # Initialize GRU; the input_size and hidden_size params are both set to 'hidden_size'\n",
        "        #   because our input size is a word embedding with number of features == hidden_size\n",
        "        self.gru = nn.GRU(hidden_size, hidden_size, n_layers,\n",
        "                          dropout=(0 if n_layers == 1 else dropout), bidirectional=True)\n",
        "        self.device = device\n",
        "\n",
        "    def forward(self, input_seq, input_lengths):\n",
        "        # Convert word indexes to embeddings\n",
        "        # input_seq: seq_len, batch\n",
        "        # input_lengths: batch\n",
        "        \n",
        "        batch = input_seq.shape[1]\n",
        "        embedded = self.embedding(input_seq)\n",
        "  \n",
        "        # embedded: seq_len, batch, hidden_size\n",
        "\n",
        "        # Pack padded batch of sequences for RNN module\n",
        "        packed = nn.utils.rnn.pack_padded_sequence(embedded, input_lengths.to(\"cpu\"), \n",
        "                                                   batch_first=False,\n",
        "                                                   enforce_sorted=False)\n",
        "\n",
        "        # Forward pass through GRU\n",
        "        hidden = torch.randn(self.n_layers*self.directions, batch, self.hidden_size).to(self.device)\n",
        "\n",
        "        outputs, hidden = self.gru(packed, hidden)      \n",
        "\n",
        "        # Unpack padding\n",
        "        outputs, _ = nn.utils.rnn.pad_packed_sequence(outputs)\n",
        "\n",
        "        # Sum bidirectional GRU outputs & hidden\n",
        "        outputs = outputs[:, :, :self.hidden_size] + outputs[:, : ,self.hidden_size:]\n",
        "        hidden = torch.sum(hidden.view(-1, 2, batch, self.hidden_size), dim=1)\n",
        "\n",
        "        # Return output and final hidden state\n",
        "        # outputs: (seq_len, batch, hidden_size)\n",
        "        # hidden: (n_layers, batch, hidden_size)\n",
        "\n",
        "        return outputs, hidden"
      ]
    },
    {
      "cell_type": "code",
      "execution_count": null,
      "metadata": {
        "id": "dNyNpzwTnpB_"
      },
      "outputs": [],
      "source": [
        "# Luong attention layer\n",
        "class Attn(nn.Module):\n",
        "    def __init__(self, hidden_size):\n",
        "        super().__init__()\n",
        "        self.attn = nn.Linear(hidden_size * 2, hidden_size)\n",
        "        self.v = nn.Parameter(torch.randn(hidden_size))\n",
        "\n",
        "    def concat_score(self, hidden, encoder_output):\n",
        "        # hidden: 1, batch, hidden_size\n",
        "        # encoder_output: seq_len, batch, hidden_size\n",
        "\n",
        "        repeat_decoder_hidden = hidden.repeat(encoder_output.size(0), 1, 1) #seq_len, batch, hidden_size\n",
        "        # print('repeat_decoder_hidden', repeat_decoder_hidden)\n",
        "        concatenate_hidden = torch.cat([repeat_decoder_hidden, encoder_output], -1) #seq_len, batch, hidden_size*2\n",
        "        energy = self.attn(concatenate_hidden).tanh() #seq_len, batch, hidden_size\n",
        "        # print('energy', energy)\n",
        "        return torch.sum(self.v * energy, dim=-1) #seq_len, batch\n",
        "\n",
        "    def forward(self, hidden, encoder_outputs):\n",
        "        # Calculate the attention weights (energies)\n",
        "        attn_energies = self.concat_score(hidden, encoder_outputs) #seq_len, batch\n",
        "        # print('attn_energies', attn_energies)\n",
        "\n",
        "        # Transpose max_length and batch_size dimensions\n",
        "        attn_energies = attn_energies.permute(1,0) #batch, seq_len\n",
        "\n",
        "        # Return the softmax normalized probability scores (with added dimension)\n",
        "        return F.softmax(attn_energies, dim=-1).unsqueeze(1)  #batch, 1, seq_len"
      ]
    },
    {
      "cell_type": "code",
      "execution_count": null,
      "metadata": {
        "id": "cr4FaLLfns_8"
      },
      "outputs": [],
      "source": [
        "class DecoderRNN(nn.Module):\n",
        "    def __init__(self, embedding, hidden_size, output_size, n_layers=1, dropout=0.1):\n",
        "        super().__init__()\n",
        "        # Define layers\n",
        "        self.embedding = embedding\n",
        "        self.attn = Attn(hidden_size)\n",
        "        self.embedding_dropout = nn.Dropout(dropout)\n",
        "        self.gru = nn.GRU(hidden_size, hidden_size, n_layers, dropout=(0 if n_layers == 1 else dropout))\n",
        "        self.concat_layer = nn.Linear(hidden_size * 2, hidden_size)\n",
        "        self.out = nn.Linear(hidden_size, output_size)\n",
        "\n",
        "    def forward(self, input_step, last_hidden, encoder_outputs):\n",
        "        # input_step: 1, batch_size\n",
        "        # Note: we run this one step (word) at a time\n",
        "        # Get embedding of current input word\n",
        "        embedded = self.embedding(input_step)\n",
        "        embedded = self.embedding_dropout(embedded)\n",
        "\n",
        "        # Forward through unidirectional GRU\n",
        "        rnn_output, hidden = self.gru(embedded, last_hidden)\n",
        "        # rnn_output: (1, batch, hidden_size)\n",
        "        # hidden: (num_layers * num_directions, batch, hidden_size)\n",
        "\n",
        "        attn_weights = self.attn(rnn_output, encoder_outputs) # batch, 1, seq_len\n",
        "        # Multiply attention weights to encoder outputs to get new \"weighted sum\" context vector\n",
        "        # encoder_output: seq_len, batch, hidden_size\n",
        "        context = attn_weights.bmm(encoder_outputs.permute(1, 0, 2)) # batch, 1, hidden_size\n",
        "\n",
        "        rnn_output = rnn_output.squeeze(0) #batch, hidden_size\n",
        "        context = context.squeeze(1) #batch, hidden_size\n",
        "        \n",
        "        concat_input = torch.cat([rnn_output, context], -1) #batch, hidden_size*2\n",
        "        concat_output = torch.tanh(self.concat_layer(concat_input)) #batch, hidden_size\n",
        "\n",
        "        # Predict next word. Note we don't apply softmax. \n",
        "        output = self.out(concat_output).unsqueeze(0)\n",
        "        \n",
        "        # outputs: (1, batch, num_words)\n",
        "        # hidden: (n_layers, batch, hidden_size)\n",
        "\n",
        "        # Return output and final hidden state\n",
        "        return output, hidden"
      ]
    },
    {
      "cell_type": "code",
      "execution_count": null,
      "metadata": {
        "id": "3YLFvcf5oBZ8"
      },
      "outputs": [],
      "source": [
        "# Luong attention layer\n",
        "class Attn(nn.Module):\n",
        "    def __init__(self, hidden_size):\n",
        "        super().__init__()\n",
        "        self.attn = nn.Linear(hidden_size * 2, hidden_size)\n",
        "        self.v = nn.Parameter(torch.randn(hidden_size))\n",
        "\n",
        "    def concat_score(self, hidden, encoder_output):\n",
        "        # hidden: 1, batch, hidden_size\n",
        "        # encoder_output: seq_len, batch, hidden_size\n",
        "\n",
        "        repeat_decoder_hidden = hidden.repeat(encoder_output.size(0), 1, 1) #seq_len, batch, hidden_size\n",
        "        # print('repeat_decoder_hidden', repeat_decoder_hidden)\n",
        "        concatenate_hidden = torch.cat([repeat_decoder_hidden, encoder_output], -1) #seq_len, batch, hidden_size*2\n",
        "        energy = self.attn(concatenate_hidden).tanh() #seq_len, batch, hidden_size\n",
        "        # print('energy', energy)\n",
        "        return torch.sum(self.v * energy, dim=-1) #seq_len, batch\n",
        "\n",
        "    def forward(self, hidden, encoder_outputs):\n",
        "        # Calculate the attention weights (energies)\n",
        "        attn_energies = self.concat_score(hidden, encoder_outputs) #seq_len, batch\n",
        "        # print('attn_energies', attn_energies)\n",
        "\n",
        "        # Transpose max_length and batch_size dimensions\n",
        "        attn_energies = attn_energies.permute(1,0) #batch, seq_len\n",
        "\n",
        "        # Return the softmax normalized probability scores (with added dimension)\n",
        "        return F.softmax(attn_energies, dim=-1).unsqueeze(1)  #batch, 1, seq_len"
      ]
    },
    {
      "cell_type": "code",
      "execution_count": null,
      "metadata": {
        "id": "K6xC9NQOoGIU"
      },
      "outputs": [],
      "source": [
        "class DecoderRNN(nn.Module):\n",
        "    def __init__(self, embedding, hidden_size, output_size, n_layers=1, dropout=0.1):\n",
        "        super().__init__()\n",
        "        # Define layers\n",
        "        self.embedding = embedding\n",
        "        self.attn = Attn(hidden_size)\n",
        "        self.embedding_dropout = nn.Dropout(dropout)\n",
        "        self.gru = nn.GRU(hidden_size, hidden_size, n_layers, dropout=(0 if n_layers == 1 else dropout))\n",
        "        self.concat_layer = nn.Linear(hidden_size * 2, hidden_size)\n",
        "        self.out = nn.Linear(hidden_size, output_size)\n",
        "\n",
        "    def forward(self, input_step, last_hidden, encoder_outputs):\n",
        "        # input_step: 1, batch_size\n",
        "        # Note: we run this one step (word) at a time\n",
        "        # Get embedding of current input word\n",
        "        embedded = self.embedding(input_step)\n",
        "        embedded = self.embedding_dropout(embedded)\n",
        "\n",
        "        # Forward through unidirectional GRU\n",
        "        rnn_output, hidden = self.gru(embedded, last_hidden)\n",
        "        # rnn_output: (1, batch, hidden_size)\n",
        "        # hidden: (num_layers * num_directions, batch, hidden_size)\n",
        "\n",
        "        attn_weights = self.attn(rnn_output, encoder_outputs) # batch, 1, seq_len\n",
        "        # Multiply attention weights to encoder outputs to get new \"weighted sum\" context vector\n",
        "        # encoder_output: seq_len, batch, hidden_size\n",
        "        context = attn_weights.bmm(encoder_outputs.permute(1, 0, 2)) # batch, 1, hidden_size\n",
        "\n",
        "        rnn_output = rnn_output.squeeze(0) #batch, hidden_size\n",
        "        context = context.squeeze(1) #batch, hidden_size\n",
        "        \n",
        "        concat_input = torch.cat([rnn_output, context], -1) #batch, hidden_size*2\n",
        "        concat_output = torch.tanh(self.concat_layer(concat_input)) #batch, hidden_size\n",
        "\n",
        "        # Predict next word. Note we don't apply softmax. \n",
        "        output = self.out(concat_output).unsqueeze(0)\n",
        "        \n",
        "        # outputs: (1, batch, num_words)\n",
        "        # hidden: (n_layers, batch, hidden_size)\n",
        "\n",
        "        # Return output and final hidden state\n",
        "        return output, hidden"
      ]
    },
    {
      "cell_type": "code",
      "execution_count": null,
      "metadata": {
        "id": "mr8wxLAXoKXq"
      },
      "outputs": [],
      "source": [
        "class Seq2SeqModel(nn.Module):\n",
        "    def __init__(self, embedding, hidden_size, num_words, max_target_len, device, \n",
        "                 n_layers=2, dropout=0.3, teacher_force=0.5):\n",
        "        super().__init__()\n",
        "        self.embedding = embedding\n",
        "        self.encoder = EncoderRNN(hidden_size, self.embedding, device, \n",
        "                                  n_layers, dropout)\n",
        "        self.decoder = DecoderRNN(self.embedding, hidden_size, num_words, \n",
        "                                  n_layers, dropout)\n",
        "        self.teacher_force = teacher_force\n",
        "        self.max_len = max_target_len\n",
        "        self.device = device\n",
        "    \n",
        "    def forward(self, input_seq, input_lengths, target_seq):\n",
        "        # input_seq: batch, seq_len \n",
        "        # target_seq: batch, seq_len \n",
        "        # input_lengths: batch\n",
        "\n",
        "        max_target_len = target_seq.shape[1]\n",
        "        batch_size = input_lengths.shape\n",
        "        decoder_output_pred = []\n",
        "\n",
        "        input_seq = input_seq.permute(1, 0) #seq_len, batch\n",
        "        encoder_outputs, encoder_hidden = self.encoder(input_seq, input_lengths)\n",
        "\n",
        "        # encoder_outputs: (seq_len, batch, hidden_size)\n",
        "        # encoder_hidden: (n_layers, batch, hidden_size)\n",
        "\n",
        "        decoder_input = target_seq.permute(1,0)[:1,:] # 1, batch\n",
        "        decoder_hidden = encoder_hidden\n",
        "\n",
        "        if random.random() < self.teacher_force:\n",
        "            use_teacher_force = True\n",
        "        else:\n",
        "            use_teacher_force = False\n",
        "\n",
        "        if use_teacher_force:\n",
        "            # print(\"Using Teacher Force.\\n\")\n",
        "            for t in range(1, max_target_len):\n",
        "                decoder_output, decoder_hidden = self.decoder(decoder_input, decoder_hidden, encoder_outputs)\n",
        "                # print(encoder_outputs)\n",
        "\n",
        "                # Teacher forcing: next input is current target\n",
        "                decoder_input = target_seq.permute(1,0)[t].view(1, -1).to(self.device) # 1, batch\n",
        "                decoder_output_pred.append(decoder_output)\n",
        "\n",
        "        else:\n",
        "            # print(\"Not Using Teacher Force.\\n\")\n",
        "            for t in range(1, max_target_len):\n",
        "                decoder_output, decoder_hidden = self.decoder(decoder_input, decoder_hidden, encoder_outputs)\n",
        "                _, topi = decoder_output.topk(1, dim=-1)\n",
        "                decoder_input = topi.squeeze(-1).detach().to(self.device) # 1, batch\n",
        "                decoder_output_pred.append(decoder_output)\n",
        "\n",
        "        decoder_output_pred = torch.cat(decoder_output_pred).to(self.device)\n",
        "        # seq_len, batch, words\n",
        "\n",
        "        return decoder_output_pred\n",
        "\n",
        "    def predict(self, input_seq, input_lengths):\n",
        "\n",
        "        input_seq = input_seq.permute(1, 0) #seq_len, batch\n",
        "        encoder_outputs, encoder_hidden = self.encoder(input_seq, input_lengths)\n",
        "        decoder_input = torch.ones(1, 1, dtype=torch.long).to(self.device)\n",
        "        decoder_hidden = encoder_hidden\n",
        "\n",
        "        all_tokens = torch.zeros([0], dtype=torch.long).to(self.device)\n",
        "        all_scores = torch.zeros([0]).to(self.device)\n",
        "\n",
        "        for t in range(1, self.max_len):\n",
        "            decoder_output, decoder_hidden = self.decoder(decoder_input, decoder_hidden, encoder_hidden)\n",
        "            decoder_scores, decoder_input = torch.max(decoder_output, dim=-1)\n",
        "            all_tokens = torch.cat((all_tokens, decoder_input), dim=0)\n",
        "            all_scores = torch.cat((all_scores, decoder_scores), dim=0)\n",
        "            # decoder_input = decoder_input.unsqueeze(0).to(self.device)\n",
        "        # Return collections of word tokens and scores\n",
        "        return all_tokens, all_scores\n"
      ]
    },
    {
      "cell_type": "code",
      "execution_count": null,
      "metadata": {
        "id": "iRcDhl1FoOZg"
      },
      "outputs": [],
      "source": [
        "# Below method helps us chat with the trained model.\n",
        "\n",
        "def evaluateInput():\n",
        "    input_sentence = ''\n",
        "    while(1):\n",
        "        try:\n",
        "            # Get input sentence\n",
        "            input_sentence = input('> ')\n",
        "            # Check if it is quit case\n",
        "            if input_sentence == 'q' or input_sentence == 'quit': break\n",
        "            # Normalize sentence\n",
        "            input_sentence = torch.tensor(tokenizer.encode(input_sentence).ids).unsqueeze(0)\n",
        "            input_length = torch.tensor(input_sentence.shape[1]).unsqueeze(0)\n",
        "            #1, seq_len\n",
        "\n",
        "            # Evaluate sentence\n",
        "            output_words,_ = model.predict(input_sentence.to(device), input_length.to(device))\n",
        "\n",
        "            # Format and print response sentence\n",
        "            output_words = output_words.squeeze().tolist()\n",
        "            output_words = [x for x in output_words if x not in [0,1,2]]\n",
        "            print('Bot:', tokenizer.decode(output_words))\n",
        "\n",
        "        except KeyError:\n",
        "            print(\"Error: Encountered unknown word.\")"
      ]
    },
    {
      "cell_type": "code",
      "execution_count": null,
      "metadata": {
        "id": "YfKpP_xQoS3u"
      },
      "outputs": [],
      "source": [
        "# Training function: Performs forward propagation, backpropagation & optimization.\n",
        "# We also implement gradient clipping, which prevents the gradients from exploding\n",
        "\n",
        "def train(model, dataloader, optimizer, criterion, clip, num_words, scheduler):\n",
        "\n",
        "    model.train()\n",
        "\n",
        "    ep_t_loss = 0\n",
        "    batch_num  = 0\n",
        "\n",
        "    for ix, batch in enumerate(dataloader):\n",
        "        batch = tuple(t.to(device) for t in batch)\n",
        "        x, x_lengths, y, y_lengths = batch\n",
        "        if ix % 50 == 0:\n",
        "            print(\"Training Batch \",ix)\n",
        "        \n",
        "        optimizer.zero_grad()\n",
        "\n",
        "        output = model(x, x_lengths, y)\n",
        "        # print(\"output \",output.shape)\n",
        "        # print(\"y \",y.shape)\n",
        "        \n",
        "        loss = criterion(output.view(-1, num_words),\n",
        "                               y.permute(1,0)[1:].contiguous().view(-1))\n",
        "        loss.backward()\n",
        "\n",
        "        #gradient clipping\n",
        "        torch.nn.utils.clip_grad_norm_(model.parameters(), clip)\n",
        "        optimizer.step()\n",
        "        scheduler.step()\n",
        "\n",
        "        ep_t_loss += loss.item()\n",
        "        batch_num += 1\n",
        "\n",
        "    return ep_t_loss/batch_num"
      ]
    },
    {
      "cell_type": "code",
      "execution_count": null,
      "metadata": {
        "id": "u1VB008noWWK"
      },
      "outputs": [],
      "source": [
        "# Evaluation function: Calculates loss on the validation data.\n",
        "\n",
        "def evaluate(model, dataloader, criterion, num_words):\n",
        "\n",
        "    model.eval()\n",
        "\n",
        "    ep_t_loss = 0\n",
        "    batch_num  = 0\n",
        "\n",
        "    for ix, batch in enumerate(dataloader):\n",
        "        batch = tuple(t.to(device) for t in batch)\n",
        "        x, x_lengths, y, y_lengths = batch\n",
        "        if ix % 50 == 0:\n",
        "            print(\"Validation Batch \",ix)\n",
        "        \n",
        "        optimizer.zero_grad()\n",
        "\n",
        "        with torch.no_grad():\n",
        "            output = model(x, x_lengths, y)\n",
        "            \n",
        "            loss = criterion(output.view(-1, num_words),\n",
        "                                  y.permute(1,0)[1:].contiguous().view(-1))\n",
        "\n",
        "            ep_t_loss += loss.item()\n",
        "            batch_num += 1\n",
        "\n",
        "    return ep_t_loss/batch_num"
      ]
    },
    {
      "cell_type": "code",
      "execution_count": null,
      "metadata": {
        "id": "L1i4CelYoZxq"
      },
      "outputs": [],
      "source": [
        "# Utility function to measure training time per epoch\n",
        "\n",
        "def epoch_time(start_time, end_time):\n",
        "    elapsed_time = end_time - start_time\n",
        "    elapsed_mins = int(elapsed_time / 60)\n",
        "    elapsed_secs = int(elapsed_time - (elapsed_mins * 60))\n",
        "    return elapsed_mins, elapsed_secs"
      ]
    },
    {
      "cell_type": "code",
      "execution_count": null,
      "metadata": {
        "id": "rWjRPfDdomsR"
      },
      "outputs": [],
      "source": [
        "# Initializing the model with parameters\n",
        "hidden_size = 512\n",
        "num_words = tokenizer.get_vocab_size()\n",
        "max_target_len = len(Y_tokenized[0])\n",
        "n_layers = 2\n",
        "dropout = 0.2\n",
        "teacher_force = 0.7\n",
        "clip = 5\n",
        "embedding = nn.Embedding(num_words, hidden_size).to(device)\n",
        "\n",
        "model = Seq2SeqModel(embedding, hidden_size, num_words, max_target_len, device, \n",
        "                     n_layers, dropout, teacher_force).to(device)"
      ]
    },
    {
      "cell_type": "code",
      "execution_count": null,
      "metadata": {
        "colab": {
          "base_uri": "https://localhost:8080/"
        },
        "id": "puWDS14Zos9a",
        "outputId": "10a15c8b-7d3a-4d23-c3da-4267d6e4b401"
      },
      "outputs": [
        {
          "data": {
            "text/plain": [
              "24"
            ]
          },
          "execution_count": 106,
          "metadata": {},
          "output_type": "execute_result"
        }
      ],
      "source": [
        "max_target_len"
      ]
    },
    {
      "cell_type": "code",
      "execution_count": null,
      "metadata": {
        "colab": {
          "base_uri": "https://localhost:8080/"
        },
        "id": "eYKFaSOLovua",
        "outputId": "d1d3da6a-3dae-47cc-871f-2fa4f7ed6839"
      },
      "outputs": [
        {
          "name": "stdout",
          "output_type": "stream",
          "text": [
            "The model has 15,348,342 trainable parameters\n"
          ]
        }
      ],
      "source": [
        "def count_parameters(model):\n",
        "  return sum(p.numel() for p in model.parameters() if p.requires_grad)\n",
        "\n",
        "print(f'The model has {count_parameters(model):,} trainable parameters')"
      ]
    },
    {
      "cell_type": "code",
      "execution_count": null,
      "metadata": {
        "id": "Tl2hqw7xozQu"
      },
      "outputs": [],
      "source": [
        "lr = 1e-4\n",
        "\n",
        "# We use AdamW optimizer, an improvement over the Adam optimizer\n",
        "# https://towardsdatascience.com/why-adamw-matters-736223f31b5d\n",
        "# Cross Entropy loss is used as the loss function\n",
        "# We also experiment with a cyclic learning rate scheduler. \n",
        "# Cyclic learning rates have demonstrated capabilities of faster convergence: https://arxiv.org/pdf/1506.01186.pdf\n",
        "\n",
        "optimizer = torch.optim.AdamW(model.parameters(), lr=lr)\n",
        "criterion = torch.nn.CrossEntropyLoss(ignore_index=1)\n",
        "scheduler = torch.optim.lr_scheduler.CyclicLR(optimizer, \n",
        "                                              base_lr=lr,\n",
        "                                              max_lr=lr*5, \n",
        "                                              cycle_momentum=False)"
      ]
    },
    {
      "cell_type": "code",
      "execution_count": null,
      "metadata": {
        "id": "DrmezGZlo2b3"
      },
      "outputs": [],
      "source": [
        "best_valid_loss = float('inf')\n",
        "tot_t_loss, tot_v_loss =[],[]"
      ]
    },
    {
      "cell_type": "code",
      "execution_count": null,
      "metadata": {
        "id": "7vVQQkIPo4VO"
      },
      "outputs": [],
      "source": [
        "N_EPOCHS = 15"
      ]
    },
    {
      "cell_type": "code",
      "execution_count": null,
      "metadata": {
        "colab": {
          "background_save": true,
          "base_uri": "https://localhost:8080/"
        },
        "id": "v-v3RSe5o6sh",
        "outputId": "46bd0c41-3a17-471c-a14d-5541f9482aa3"
      },
      "outputs": [
        {
          "name": "stderr",
          "output_type": "stream",
          "text": [
            "\r  0%|          | 0/15 [00:00<?, ?it/s]"
          ]
        },
        {
          "name": "stdout",
          "output_type": "stream",
          "text": [
            "Training Batch  0\n",
            "Validation Batch  0\n"
          ]
        },
        {
          "name": "stderr",
          "output_type": "stream",
          "text": [
            "\r  7%|▋         | 1/15 [09:00<2:06:07, 540.54s/it]"
          ]
        },
        {
          "name": "stdout",
          "output_type": "stream",
          "text": [
            "\n",
            "Best Model Saved !!\n",
            "\n",
            "\n",
            "Epoch: 01 | Time: 9m 0s\n",
            "\tTrain Total Loss: 7.254 | Train Perplexity: 1413.195\n",
            "\tVal. Total Loss: 6.145 | Valid Perplexity: 466.530\n",
            "_________________________________________________________________\n",
            "Training Batch  0\n",
            "Validation Batch  0\n"
          ]
        },
        {
          "name": "stderr",
          "output_type": "stream",
          "text": [
            "\r 13%|█▎        | 2/15 [17:54<1:56:14, 536.53s/it]"
          ]
        },
        {
          "name": "stdout",
          "output_type": "stream",
          "text": [
            "\n",
            "Best Model Saved !!\n",
            "\n",
            "\n",
            "Epoch: 02 | Time: 8m 53s\n",
            "\tTrain Total Loss: 5.599 | Train Perplexity: 270.159\n",
            "\tVal. Total Loss: 5.331 | Valid Perplexity: 206.630\n",
            "_________________________________________________________________\n",
            "Training Batch  0\n",
            "Validation Batch  0\n"
          ]
        },
        {
          "name": "stderr",
          "output_type": "stream",
          "text": [
            "\r 20%|██        | 3/15 [25:05<1:37:41, 488.48s/it]"
          ]
        },
        {
          "name": "stdout",
          "output_type": "stream",
          "text": [
            "\n",
            "Best Model Saved !!\n",
            "\n",
            "\n",
            "Epoch: 03 | Time: 7m 10s\n",
            "\tTrain Total Loss: 5.185 | Train Perplexity: 178.506\n",
            "\tVal. Total Loss: 5.186 | Valid Perplexity: 178.831\n",
            "_________________________________________________________________\n",
            "Training Batch  0\n",
            "Validation Batch  0\n"
          ]
        },
        {
          "name": "stderr",
          "output_type": "stream",
          "text": [
            "\r 27%|██▋       | 4/15 [30:37<1:18:13, 426.71s/it]"
          ]
        },
        {
          "name": "stdout",
          "output_type": "stream",
          "text": [
            "\n",
            "Best Model Saved !!\n",
            "\n",
            "\n",
            "Epoch: 04 | Time: 5m 31s\n",
            "\tTrain Total Loss: 5.053 | Train Perplexity: 156.457\n",
            "\tVal. Total Loss: 5.045 | Valid Perplexity: 155.234\n",
            "_________________________________________________________________\n",
            "Training Batch  0\n",
            "Validation Batch  0\n"
          ]
        },
        {
          "name": "stderr",
          "output_type": "stream",
          "text": [
            "\r 33%|███▎      | 5/15 [34:43<1:00:15, 361.50s/it]"
          ]
        },
        {
          "name": "stdout",
          "output_type": "stream",
          "text": [
            "\n",
            "Best Model Saved !!\n",
            "\n",
            "\n",
            "Epoch: 05 | Time: 4m 5s\n",
            "\tTrain Total Loss: 4.916 | Train Perplexity: 136.416\n",
            "\tVal. Total Loss: 4.956 | Valid Perplexity: 142.058\n",
            "_________________________________________________________________\n",
            "Training Batch  0\n",
            "Validation Batch  0\n"
          ]
        },
        {
          "name": "stderr",
          "output_type": "stream",
          "text": [
            "\r 40%|████      | 6/15 [38:43<48:02, 320.27s/it]  "
          ]
        },
        {
          "name": "stdout",
          "output_type": "stream",
          "text": [
            "\n",
            "Best Model Saved !!\n",
            "\n",
            "\n",
            "Epoch: 06 | Time: 4m 0s\n",
            "\tTrain Total Loss: 4.806 | Train Perplexity: 122.260\n",
            "\tVal. Total Loss: 4.953 | Valid Perplexity: 141.663\n",
            "_________________________________________________________________\n",
            "Training Batch  0\n",
            "Validation Batch  0\n"
          ]
        },
        {
          "name": "stderr",
          "output_type": "stream",
          "text": [
            "\r 47%|████▋     | 7/15 [42:23<38:20, 287.50s/it]"
          ]
        },
        {
          "name": "stdout",
          "output_type": "stream",
          "text": [
            "\n",
            "Best Model Saved !!\n",
            "\n",
            "\n",
            "Epoch: 07 | Time: 3m 39s\n",
            "\tTrain Total Loss: 4.766 | Train Perplexity: 117.415\n",
            "\tVal. Total Loss: 4.804 | Valid Perplexity: 122.038\n",
            "_________________________________________________________________\n",
            "Training Batch  0\n",
            "Validation Batch  0\n"
          ]
        },
        {
          "name": "stderr",
          "output_type": "stream",
          "text": [
            "\r 53%|█████▎    | 8/15 [46:31<32:05, 275.01s/it]"
          ]
        },
        {
          "name": "stdout",
          "output_type": "stream",
          "text": [
            "\n",
            "Best Model Saved !!\n",
            "\n",
            "\n",
            "Epoch: 08 | Time: 4m 8s\n",
            "\tTrain Total Loss: 4.751 | Train Perplexity: 115.744\n",
            "\tVal. Total Loss: 4.732 | Valid Perplexity: 113.540\n",
            "_________________________________________________________________\n",
            "Training Batch  0\n",
            "Validation Batch  0\n"
          ]
        },
        {
          "name": "stderr",
          "output_type": "stream",
          "text": [
            "\r 60%|██████    | 9/15 [50:59<27:15, 272.58s/it]"
          ]
        },
        {
          "name": "stdout",
          "output_type": "stream",
          "text": [
            "\n",
            "Best Model Saved !!\n",
            "\n",
            "\n",
            "Epoch: 09 | Time: 4m 27s\n",
            "\tTrain Total Loss: 4.657 | Train Perplexity: 105.292\n",
            "\tVal. Total Loss: 4.732 | Valid Perplexity: 113.507\n",
            "_________________________________________________________________\n",
            "Training Batch  0\n",
            "Validation Batch  0\n"
          ]
        },
        {
          "name": "stderr",
          "output_type": "stream",
          "text": [
            "\r 67%|██████▋   | 10/15 [55:28<22:37, 271.42s/it]"
          ]
        },
        {
          "name": "stdout",
          "output_type": "stream",
          "text": [
            "\n",
            "Best Model Saved !!\n",
            "\n",
            "\n",
            "Epoch: 10 | Time: 4m 28s\n",
            "\tTrain Total Loss: 4.639 | Train Perplexity: 103.406\n",
            "\tVal. Total Loss: 4.727 | Valid Perplexity: 112.920\n",
            "_________________________________________________________________\n",
            "Training Batch  0\n",
            "Validation Batch  0\n"
          ]
        },
        {
          "name": "stderr",
          "output_type": "stream",
          "text": [
            "\r 73%|███████▎  | 11/15 [1:00:55<19:14, 288.62s/it]"
          ]
        },
        {
          "name": "stdout",
          "output_type": "stream",
          "text": [
            "\n",
            "Best Model Saved !!\n",
            "\n",
            "\n",
            "Epoch: 11 | Time: 5m 27s\n",
            "\tTrain Total Loss: 4.665 | Train Perplexity: 106.160\n",
            "\tVal. Total Loss: 4.574 | Valid Perplexity: 96.936\n",
            "_________________________________________________________________\n",
            "Training Batch  0\n",
            "Validation Batch  0\n"
          ]
        },
        {
          "name": "stderr",
          "output_type": "stream",
          "text": [
            "\r 80%|████████  | 12/15 [1:06:13<14:52, 297.39s/it]"
          ]
        },
        {
          "name": "stdout",
          "output_type": "stream",
          "text": [
            "\n",
            "\n",
            "Epoch: 12 | Time: 5m 17s\n",
            "\tTrain Total Loss: 4.631 | Train Perplexity: 102.597\n",
            "\tVal. Total Loss: 4.831 | Valid Perplexity: 125.325\n",
            "_________________________________________________________________\n",
            "Training Batch  0\n",
            "Validation Batch  0\n"
          ]
        },
        {
          "name": "stderr",
          "output_type": "stream",
          "text": [
            "\r 87%|████████▋ | 13/15 [1:12:26<10:40, 320.41s/it]"
          ]
        },
        {
          "name": "stdout",
          "output_type": "stream",
          "text": [
            "\\Checkpoint Model Saved !!\n",
            "\n",
            "\n",
            "Epoch: 13 | Time: 6m 13s\n",
            "\tTrain Total Loss: 4.547 | Train Perplexity: 94.345\n",
            "\tVal. Total Loss: 4.598 | Valid Perplexity: 99.268\n",
            "_________________________________________________________________\n",
            "Training Batch  0\n",
            "Validation Batch  0\n"
          ]
        },
        {
          "name": "stderr",
          "output_type": "stream",
          "text": [
            "\r 93%|█████████▎| 14/15 [1:18:29<05:33, 333.17s/it]"
          ]
        },
        {
          "name": "stdout",
          "output_type": "stream",
          "text": [
            "\n",
            "Best Model Saved !!\n",
            "\n",
            "\n",
            "Epoch: 14 | Time: 6m 2s\n",
            "\tTrain Total Loss: 4.343 | Train Perplexity: 76.913\n",
            "\tVal. Total Loss: 4.564 | Valid Perplexity: 95.923\n",
            "_________________________________________________________________\n",
            "Training Batch  0\n",
            "Validation Batch  0\n"
          ]
        },
        {
          "name": "stderr",
          "output_type": "stream",
          "text": [
            "100%|██████████| 15/15 [1:25:05<00:00, 340.37s/it]"
          ]
        },
        {
          "name": "stdout",
          "output_type": "stream",
          "text": [
            "\n",
            "\n",
            "Epoch: 15 | Time: 6m 36s\n",
            "\tTrain Total Loss: 4.415 | Train Perplexity: 82.704\n",
            "\tVal. Total Loss: 4.799 | Valid Perplexity: 121.418\n",
            "_________________________________________________________________\n"
          ]
        },
        {
          "name": "stderr",
          "output_type": "stream",
          "text": [
            "\n"
          ]
        }
      ],
      "source": [
        "import time\n",
        "from tqdm import tqdm\n",
        "for epoch in tqdm(range(N_EPOCHS)):\n",
        "\n",
        "# We finally start training !!\n",
        "\n",
        "    start_time = time.time()\n",
        "    \n",
        "    tr_l= train(model, train_datalaoder, optimizer, criterion, \n",
        "                clip, num_words, scheduler)\n",
        "    tot_t_loss.append(tr_l)\n",
        "\n",
        "    val_l = evaluate(model, valid_datalaoder, criterion, num_words)\n",
        "    tot_v_loss.append(val_l)\n",
        "\n",
        "    end_time = time.time()\n",
        "    \n",
        "    epoch_mins, epoch_secs = epoch_time(start_time, end_time)\n",
        "    \n",
        "    if val_l < best_valid_loss:\n",
        "        best_valid_loss = val_l\n",
        "        torch.save(model.state_dict(), 'Chatbot_v2_least_loss.pt')\n",
        "        print(\"\\nBest Model Saved !!\")\n",
        "    elif epoch % 3 == 0:\n",
        "        torch.save(model.state_dict(), 'Chatbot_v2_checkpoint_'+str(epoch)+'.pt')\n",
        "        print(\"\\Checkpoint Model Saved !!\")\n",
        "    print(\"\\n\")\n",
        "    print(f'Epoch: {epoch+1:02} | Time: {epoch_mins}m {epoch_secs}s')\n",
        "    # In information theory, perplexity is a measurement of how well a probability \n",
        "    # distribution or probability model predicts a sample. It may be used to compare \n",
        "    # probability models. A low perplexity indicates the probability distribution \n",
        "    # is good at predicting the sample.\n",
        "    print(f'\\tTrain Total Loss: {tr_l:.3f} | Train Perplexity: {math.exp(tr_l):.3f}')\n",
        "    print(f'\\tVal. Total Loss: {val_l:.3f} | Valid Perplexity: {math.exp(val_l):.3f}')\n",
        "    print(\"_________________________________________________________________\")"
      ]
    },
    {
      "cell_type": "code",
      "execution_count": null,
      "metadata": {
        "colab": {
          "background_save": true
        },
        "id": "UPslATaFo_QN",
        "outputId": "8ab19e55-1d4a-4b52-9a13-8700cda44c92"
      },
      "outputs": [
        {
          "ename": "FileNotFoundError",
          "evalue": "ignored",
          "output_type": "error",
          "traceback": [
            "\u001b[0;31m---------------------------------------------------------------------------\u001b[0m",
            "\u001b[0;31mFileNotFoundError\u001b[0m                         Traceback (most recent call last)",
            "\u001b[0;32m<ipython-input-112-3a8ba599ee61>\u001b[0m in \u001b[0;36m<module>\u001b[0;34m\u001b[0m\n\u001b[0;32m----> 1\u001b[0;31m \u001b[0mmodel\u001b[0m\u001b[0;34m.\u001b[0m\u001b[0mload_state_dict\u001b[0m\u001b[0;34m(\u001b[0m\u001b[0mtorch\u001b[0m\u001b[0;34m.\u001b[0m\u001b[0mload\u001b[0m\u001b[0;34m(\u001b[0m\u001b[0;34m'./Chatbot_v2_checkpoint_6.pt'\u001b[0m\u001b[0;34m)\u001b[0m\u001b[0;34m)\u001b[0m\u001b[0;34m\u001b[0m\u001b[0;34m\u001b[0m\u001b[0m\n\u001b[0m",
            "\u001b[0;32m/usr/local/lib/python3.7/dist-packages/torch/serialization.py\u001b[0m in \u001b[0;36mload\u001b[0;34m(f, map_location, pickle_module, **pickle_load_args)\u001b[0m\n\u001b[1;32m    697\u001b[0m         \u001b[0mpickle_load_args\u001b[0m\u001b[0;34m[\u001b[0m\u001b[0;34m'encoding'\u001b[0m\u001b[0;34m]\u001b[0m \u001b[0;34m=\u001b[0m \u001b[0;34m'utf-8'\u001b[0m\u001b[0;34m\u001b[0m\u001b[0;34m\u001b[0m\u001b[0m\n\u001b[1;32m    698\u001b[0m \u001b[0;34m\u001b[0m\u001b[0m\n\u001b[0;32m--> 699\u001b[0;31m     \u001b[0;32mwith\u001b[0m \u001b[0m_open_file_like\u001b[0m\u001b[0;34m(\u001b[0m\u001b[0mf\u001b[0m\u001b[0;34m,\u001b[0m \u001b[0;34m'rb'\u001b[0m\u001b[0;34m)\u001b[0m \u001b[0;32mas\u001b[0m \u001b[0mopened_file\u001b[0m\u001b[0;34m:\u001b[0m\u001b[0;34m\u001b[0m\u001b[0;34m\u001b[0m\u001b[0m\n\u001b[0m\u001b[1;32m    700\u001b[0m         \u001b[0;32mif\u001b[0m \u001b[0m_is_zipfile\u001b[0m\u001b[0;34m(\u001b[0m\u001b[0mopened_file\u001b[0m\u001b[0;34m)\u001b[0m\u001b[0;34m:\u001b[0m\u001b[0;34m\u001b[0m\u001b[0;34m\u001b[0m\u001b[0m\n\u001b[1;32m    701\u001b[0m             \u001b[0;31m# The zipfile reader is going to advance the current file position.\u001b[0m\u001b[0;34m\u001b[0m\u001b[0;34m\u001b[0m\u001b[0;34m\u001b[0m\u001b[0m\n",
            "\u001b[0;32m/usr/local/lib/python3.7/dist-packages/torch/serialization.py\u001b[0m in \u001b[0;36m_open_file_like\u001b[0;34m(name_or_buffer, mode)\u001b[0m\n\u001b[1;32m    228\u001b[0m \u001b[0;32mdef\u001b[0m \u001b[0m_open_file_like\u001b[0m\u001b[0;34m(\u001b[0m\u001b[0mname_or_buffer\u001b[0m\u001b[0;34m,\u001b[0m \u001b[0mmode\u001b[0m\u001b[0;34m)\u001b[0m\u001b[0;34m:\u001b[0m\u001b[0;34m\u001b[0m\u001b[0;34m\u001b[0m\u001b[0m\n\u001b[1;32m    229\u001b[0m     \u001b[0;32mif\u001b[0m \u001b[0m_is_path\u001b[0m\u001b[0;34m(\u001b[0m\u001b[0mname_or_buffer\u001b[0m\u001b[0;34m)\u001b[0m\u001b[0;34m:\u001b[0m\u001b[0;34m\u001b[0m\u001b[0;34m\u001b[0m\u001b[0m\n\u001b[0;32m--> 230\u001b[0;31m         \u001b[0;32mreturn\u001b[0m \u001b[0m_open_file\u001b[0m\u001b[0;34m(\u001b[0m\u001b[0mname_or_buffer\u001b[0m\u001b[0;34m,\u001b[0m \u001b[0mmode\u001b[0m\u001b[0;34m)\u001b[0m\u001b[0;34m\u001b[0m\u001b[0;34m\u001b[0m\u001b[0m\n\u001b[0m\u001b[1;32m    231\u001b[0m     \u001b[0;32melse\u001b[0m\u001b[0;34m:\u001b[0m\u001b[0;34m\u001b[0m\u001b[0;34m\u001b[0m\u001b[0m\n\u001b[1;32m    232\u001b[0m         \u001b[0;32mif\u001b[0m \u001b[0;34m'w'\u001b[0m \u001b[0;32min\u001b[0m \u001b[0mmode\u001b[0m\u001b[0;34m:\u001b[0m\u001b[0;34m\u001b[0m\u001b[0;34m\u001b[0m\u001b[0m\n",
            "\u001b[0;32m/usr/local/lib/python3.7/dist-packages/torch/serialization.py\u001b[0m in \u001b[0;36m__init__\u001b[0;34m(self, name, mode)\u001b[0m\n\u001b[1;32m    209\u001b[0m \u001b[0;32mclass\u001b[0m \u001b[0m_open_file\u001b[0m\u001b[0;34m(\u001b[0m\u001b[0m_opener\u001b[0m\u001b[0;34m)\u001b[0m\u001b[0;34m:\u001b[0m\u001b[0;34m\u001b[0m\u001b[0;34m\u001b[0m\u001b[0m\n\u001b[1;32m    210\u001b[0m     \u001b[0;32mdef\u001b[0m \u001b[0m__init__\u001b[0m\u001b[0;34m(\u001b[0m\u001b[0mself\u001b[0m\u001b[0;34m,\u001b[0m \u001b[0mname\u001b[0m\u001b[0;34m,\u001b[0m \u001b[0mmode\u001b[0m\u001b[0;34m)\u001b[0m\u001b[0;34m:\u001b[0m\u001b[0;34m\u001b[0m\u001b[0;34m\u001b[0m\u001b[0m\n\u001b[0;32m--> 211\u001b[0;31m         \u001b[0msuper\u001b[0m\u001b[0;34m(\u001b[0m\u001b[0m_open_file\u001b[0m\u001b[0;34m,\u001b[0m \u001b[0mself\u001b[0m\u001b[0;34m)\u001b[0m\u001b[0;34m.\u001b[0m\u001b[0m__init__\u001b[0m\u001b[0;34m(\u001b[0m\u001b[0mopen\u001b[0m\u001b[0;34m(\u001b[0m\u001b[0mname\u001b[0m\u001b[0;34m,\u001b[0m \u001b[0mmode\u001b[0m\u001b[0;34m)\u001b[0m\u001b[0;34m)\u001b[0m\u001b[0;34m\u001b[0m\u001b[0;34m\u001b[0m\u001b[0m\n\u001b[0m\u001b[1;32m    212\u001b[0m \u001b[0;34m\u001b[0m\u001b[0m\n\u001b[1;32m    213\u001b[0m     \u001b[0;32mdef\u001b[0m \u001b[0m__exit__\u001b[0m\u001b[0;34m(\u001b[0m\u001b[0mself\u001b[0m\u001b[0;34m,\u001b[0m \u001b[0;34m*\u001b[0m\u001b[0margs\u001b[0m\u001b[0;34m)\u001b[0m\u001b[0;34m:\u001b[0m\u001b[0;34m\u001b[0m\u001b[0;34m\u001b[0m\u001b[0m\n",
            "\u001b[0;31mFileNotFoundError\u001b[0m: [Errno 2] No such file or directory: './Chatbot_v2_checkpoint_6.pt'"
          ]
        }
      ],
      "source": [
        "model.load_state_dict(torch.load('./Chatbot_v2_checkpoint_6.pt'))"
      ]
    },
    {
      "cell_type": "code",
      "execution_count": null,
      "metadata": {
        "id": "fVKcmocwpW51"
      },
      "outputs": [],
      "source": [
        "evaluateInput()"
      ]
    }
  ],
  "metadata": {
    "colab": {
      "provenance": []
    },
    "kernelspec": {
      "display_name": "Python 3",
      "name": "python3"
    },
    "language_info": {
      "name": "python"
    }
  },
  "nbformat": 4,
  "nbformat_minor": 0
}