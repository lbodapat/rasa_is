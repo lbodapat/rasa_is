{
  "nbformat": 4,
  "nbformat_minor": 0,
  "metadata": {
    "colab": {
      "provenance": []
    },
    "kernelspec": {
      "name": "python3",
      "display_name": "Python 3"
    },
    "language_info": {
      "name": "python"
    }
  },
  "cells": [
    {
      "cell_type": "code",
      "execution_count": null,
      "metadata": {
        "colab": {
          "base_uri": "https://localhost:8080/"
        },
        "id": "ErnWYI0CfVz5",
        "outputId": "88483a33-4373-4aec-e407-48cc348b4cc9"
      },
      "outputs": [
        {
          "output_type": "stream",
          "name": "stdout",
          "text": [
            "\n",
            "\t\tpages for logged out editors learn more\n",
            "\n",
            "\t\t\t\tcontents\n",
            "\t\t\t\tmove to sidebar\n",
            "hide\n",
            "\n",
            "cats, also called domestic cats (felis catus), are small, carnivorous mammals, of the family felidae.[3][4]\n",
            "domestic cats are often called 'house cats' when kept as indoor pets.[5] cats have been domesticated (tamed) for nearly 10,000 years.[6]\n",
            "they are one of the most popular pets in the world. they are kept by humans for hunting rodents and as friends.\n",
            "there are also farm cats, which are kept on farms to keep rodents away; and feral cats, which are domestic cats that live away from humans.[7]\n",
            "a cat is sometimes called a kitty. a young cat is called a kitten.[8] a female cat that has not had its sex organs removed is called a queen. a male cat that has not had its sex organs removed is called a tom.\n",
            "there are about 92 breeds of cat.[9] domestic cats are found in shorthair, longhair, and hairless breeds. cats which are not specific breeds can be referred to as 'domestic shorthair' (dsh) or 'domestic longhair' (dlh).\n",
            "the word 'cat' is also used for other felines. felines are usually called either big cats or small cats.  the big, wild cats are well known: lions, tigers, leopards, jaguars, pumas, and cheetahs. there are small wild cats in most parts of the world, such as the lynx in northern europe.  the big cats and wild cats are not tame, and can be very dangerous.\n",
            "in the past, mostly in egypt, people kept domestic cats because they hunted and ate mice and rats. today, people often keep cats as pets. there are also domestic cats which live without being cared for by people. these kinds of cats are called \"feral cats\".\n",
            "the oldest evidence of cats kept as pets is from the mediterranean island of cyprus, around 7500 bc. ancient egyptians worshipped cats as gods, and often mummified them so they could be with their owners \"for all of eternity\".\n",
            "today, special food for cats is widely available in the developed countries. proper feeding will help a cat live longer compared to hunting or being fed table scraps. not correctly feeding a cat can lead to problems (see below for health concerns).\n",
            "cats cannot taste sweet foods (with sugar) because of a mutation (change) in their ancestors which removed the ability to taste sweet things.\n",
            "cats have anatomy similar to the other members of the genus felis. the genus has extra lumbar (lower back) and thoracic (chest) vertebrae. this helps to explain the cat's spinal mobility and flexibility. unlike human arms, cat forelimbs are attached to the shoulder by free-floating clavicle bones. these allow cats to pass their body through any space into which they can fit their heads.[10]\n",
            "the cat skull is unusual among mammals in having very large eye sockets and a powerful and specialized jaw.[11]:35 compared to other felines, domestic cats have narrowly spaced canine teeth: this is an adaptation to their preferred prey of small rodents.[12] cats, like dogs, walk directly on their toes, with the bones of their feet making up the lower part of the visible leg.[13]\n",
            "cats walk very precisely. unlike most mammals, when cats walk, they use a \"pacing\" gait (walking style); that is, they move the two legs on one side of the body before the legs on the other side. this trait is shared with camels and giraffes. as a walk speeds up into a trot, a cat's gait will change to be a \"diagonal\" gait, similar to that of most other mammals: the diagonally opposite hind and forelegs will move at the same time.[14] most cats have five claws on their front paws, and four on their rear paws.[15] on the inside of the front paws there is something which looks like a sixth \"finger\". this special feature on the inside of the wrists is the carpal pad. the carpal pad is also found on other cats and on dogs.\n",
            "cats are active carnivores, meaning that in the wild they hunt live prey. their main prey is small mammals (like mice). they will also stalk, and sometimes kill and eat, birds. cats eat a wide variety of prey, including insects such as flies and grasshoppers.[16] their main method of hunting is stalk and pounce. while dogs have great stamina and will chase prey over long distances, cats are extremely fast, but only over short distances. \n",
            "the basic cat coat colouring, tabby (see top photo), gives it good camouflage in grass and woodland. the cat creeps towards a chosen victim, keeping its body flat and near to the ground so that it cannot be seen easily, until it is close enough for a rapid dash or pounce. cats, especially kittens, practice these instinctive behaviours in play with each other or on small toys. cats can fish. they use a flip-up movement of a front paw which, when successful, flips the fish out of water and over the cat's shoulders onto the grass. dutch research showed this to be an innate (inherited) behaviour pattern which developed early and without maternal teaching.[17]\n",
            "cats are quiet and well-behaved animals, making them popular pets. young kittens are playful. they can easily entertain themselves with a variety of store-bought or homemade toys. house cats have also been known to teach themselves to use lever-type doorknobs and toilet handles.[18]\n",
            "cats are fairly independent animals. they can look after themselves and do not need as much attention as dogs do.\n",
            "cats use many different sounds for communication, including meowing, purring, trilling, hissing, growling, squeaking, chirping, clicking and grunting.[19]\n",
            "\n",
            "body posture is also important. the whole shape of the body changes when a cat is relaxed, or when it is alert. also, the position of their ears and tail are used for communication, as well as their usual functions.\n",
            "these ways of communication are very important. they are used between a mother cat and her kittens. they are also used between male and female cats; and between cats and other species, such as dogs. a mother cat protecting her kittens will fight off the largest dog. she gives good warning with a frightening display, hissing furiously, showing her claws, arching her back, and making her hair stand on end. if that fails, she attacks the dog's face with her claws. it has been said that no dog ever tries such an attack a second time.[20]\n",
            "cats only mate when the queen is \"in heat\". heat periods occur about every two weeks and last 4 to 6 days.[21] mating in cats is a spectacular event. several toms may be attracted to a [queen] in heat. the males will fight over her, and the victor wins the right to mate. at first, the female will reject the male, but eventually the female will allow the male to mate. the female will utter a loud yowl as the male pulls out of her. this is because a male cat's penis has a band of about 120-150 backwards-pointing spines, which are about one millimeter long.[22] when the penis is withdrawn, the spines rake the walls of the female's vagina, which is a trigger for ovulation.[23] after mating, the female will wash her vulva thoroughly. if a male attempts to breed with her at this point, the female will attack him. after about 20 to 30 minutes. once the female is finished grooming, the cycle will repeat.[21]\n",
            "because ovulation is not always triggered, females may not get pregnant by the first tom which mates with them.[24] a queen may mate with more than one tom when she is in heat, and different kittens in a litter may have different fathers.[21] the cycle ceases when the queen is pregnant.\n",
            "the gestation period for cats is about two months, with an average length of 66 days.[25] the size of a litter is usually three to five kittens. kittens are weaned at between six and seven weeks, and cats normally reach sexual maturity at 5–10 months (females) and to 5–7 months (males).[21] females can have two to three litters per year, so might produce up to 150 kittens in their breeding life of about ten years.[21]\n",
            "pregnant queens deliver their litters by themselves, guided by instinct. the queen finds the safest place she can. then she will clean it thoroughly, with her tongue, if necessary. here she will quietly give birth. she licks the newborn kits clean. in the wild, leaving a scent is risking a dangerous encounter with other animals. the kits are born blind and with closed eyes. they suckle on her teats, and sleep a good deal. after two weeks or so, their eyes open. at that stage they have blue eyes, but not the best sight. a bit later, the best developed kit will totter out of the nest. the others follow. they will soon recognise you as a living thing: that is a great moment. at first, they go back to the nest to feed and sleep. after some more days they leave the nest for good, but still they may sleep together in a 'kitten heap'.\n",
            "the queen, meanwhile, has left the nest from time to time, to hunt, feed, and also to urinate and defecate. unlike the tom, she covers up her business to hide her scent. very soon, the kits will urinate anywhere they please unless one trains them. this is done after they are weaned, when they are ready for some kitten food. here is how to do it:\n",
            "what you have done is exactly what the queen would do in the wild. you have triggered a reflex which all kittens have. the thing is, the tray is artificial, and your queen may do her business outside. but at least when young, kittens need a tray. your next job is to call the vet, who will tell you when to bring the kits for their vaccination.[26]\n",
            "kittens play endlessly. it is how they do their learning. they will play their favourite games, such as 'hide and pounce', with almost anyone or anything. soft balls on strings are a standard toy; so is a scratching post.\n",
            "with cats there is a limit to how far you can train them. they are at least as intelligent as dogs, but they are not pack animals. they like to do their own thing, and owners do best by fitting in. never hit a cat: if you do, the relationship will never be the same again. if you really want to dissuade them, try hissing. it has been said that no one really owns a cat; many cats collect extra owners, and may change house if they do not like the treatment...[27]\n",
            "if your kitten was born in your home do not let it out of the house until it is two to three months old. if you have the mother, she will look after the kit. but if you have got the kit from a vet or dealer, keep it in for several weeks. when it does go out, you need to watch over it. the main problem is that it may easily get lost. in time, the kit will learn every inch of the house and garden. then, you can happily let it roam.[28]\n",
            "cats are very clean animals. they groom themselves by licking their fur. the cat's tongue can act as a hairbrush and can clean and untangle a cat's fur. still, owners may buy grooming products to help the cat take care of itself. after licking their fur, cats sometimes get hairballs.[29] a hairball is a small amount of fur that is vomited up by animals when it becomes too big. this is quite normal. owners brush their cats to try to prevent a lot of hairballs.\n",
            "many house cats eat food which their owners give them. this food is manufactured, and designed to contain the right nutrients for cats. there are many different types of cat food. these come in many different flavors and costs are often very small.\n",
            "there is moist canned food and also dry cat food which comes in different sized cans or bags and formulas. there are kitten formulas, cat formulas, health formulas, formulas for reducing a cat's weight, and many others. it seems obvious that the food should be mostly meat, as that is most of a cat's natural diet. but remember, when they catch mice, they also eat the bones. so there is need for formulas to have more than just meat.\n",
            "cats should not be fed a daily diet of dog food. it could make the cat blind, as it has no taurine, which is a nutrient for the eyes.\n",
            "cats do get diseases, and prevention is better than cure. it is most important to get a young cat vaccinated against some of the most deadly diseases. if a cat gets a disease, a veterinarian (animal doctor) can offer help. some cats, depending on breed, gender, age, and general health, may be more susceptible to disease than others.  regular visits to a vet can keep a cat alive many extra years by catching sickness and disease early.[30]\n",
            "cats that roam outside will get fleas at some time. cat fleas will not live on people, but fleas will not hesitate to bite anyone nearby. owners may choose to buy anti-flea collars, but any areas where the cat normally sleeps need to be cleaned up. a vet or local pet-shop may offer advice about fleas. it is recommended that people quickly take action when a cat gets fleas because fleas can make cats uncomfortable.\n",
            "house cats can become overweight through lack of exercise and over-feeding because people don't watch them. when they get spayed or neutered (\"fixed\"), they tend to exercise less. spaying is done for queens, and neutering is done for toms. it is important to fix cats, and here are some reasons. first of all, if a female cat has kittens, they will need homes. finding homes for kittens is often quite difficult. if a tom is not fixed, it develops a disgusting smell. breeders who have entire toms keep them in a special hut outside the house, for that reason. fixing also helps to avoid over-population. over-population means that there are too many cats, and some will be put to sleep (put down) in animal pounds (animal shelters).\n",
            "it is a good idea to adopt a cat from a vet or an animal shelter. the vet, shelter or rspca will make sure they are healthy and spayed.[31][31]\n",
            "kittens are sometimes born with defects. people who receive cats as gifts are recommended to get it examined for its health. some birth defects need attention. others are harmless, like polydactyly. polydactyly means many digits, or many \"fingers\" from poly (many) and dactyl (digit). sometimes, there is a mutation (change) in cat families. most cats have only four to five toes per paw, depending on whether it is the front or back paw. these mutated cats have six, seven, and in rare cases even more. all of these cats are called polydactyl cats. they can also be called hemingway cats because author ernest hemingway owned some of these cats.\n",
            "\n"
          ]
        }
      ],
      "source": [
        "import bs4 as bs\n",
        "import urllib.request\n",
        "#Open the cat web data page\n",
        "cat_data = urllib.request.urlopen('https://simple.wikipedia.org/wiki/Cat').read()\n",
        "#Find all the paragraph html from the web page\n",
        "cat_data_paragraphs  = bs.BeautifulSoup(cat_data,'lxml').find_all('p')\n",
        "#Creating the corpus of all the web page paragraphs\n",
        "cat_text = ''\n",
        "#Creating lower text corpus of cat paragraphs\n",
        "for p in cat_data_paragraphs:\n",
        "    cat_text += p.text.lower()\n",
        "print(cat_text)"
      ]
    },
    {
      "cell_type": "code",
      "source": [
        "import nltk\n",
        "nltk.download('punkt')\n",
        "\n",
        "from nltk import word_tokenize,sent_tokenize"
      ],
      "metadata": {
        "colab": {
          "base_uri": "https://localhost:8080/"
        },
        "id": "q2IEehNtgMIg",
        "outputId": "51e8a0ea-c50d-4a8e-f42d-f39efbb9a1a0"
      },
      "execution_count": null,
      "outputs": [
        {
          "output_type": "stream",
          "name": "stderr",
          "text": [
            "[nltk_data] Downloading package punkt to /root/nltk_data...\n",
            "[nltk_data]   Unzipping tokenizers/punkt.zip.\n"
          ]
        }
      ]
    },
    {
      "cell_type": "code",
      "source": [
        "import re\n",
        "cat_text = re.sub(r'\\s+', ' ',re.sub(r'\\[[0-9]*\\]', ' ', cat_text))\n",
        "# import nltk\n",
        "cat_sentences = nltk.sent_tokenize(cat_text)"
      ],
      "metadata": {
        "id": "Wlud8gdDf3l1"
      },
      "execution_count": null,
      "outputs": []
    },
    {
      "cell_type": "code",
      "source": [
        "from sklearn.metrics.pairwise import cosine_similarity\n",
        "from sklearn.feature_extraction.text import TfidfVectorizer\n",
        "def chatbot_answer(user_query):\n",
        "    \n",
        "    #Append the query to the sentences list\n",
        "    cat_sentences.append(user_query)\n",
        "    #Create the sentences vector based on the list\n",
        "    vectorizer = TfidfVectorizer()\n",
        "    sentences_vectors = vectorizer.fit_transform(cat_sentences)\n",
        "    \n",
        "    #Measure the cosine similarity and take the second closest index because the first index is the user query\n",
        "    vector_values = cosine_similarity(sentences_vectors[-1], sentences_vectors)\n",
        "    answer = cat_sentences[vector_values.argsort()[0][-2]]\n",
        "    #Final check to make sure there are result present. If all the result are 0, means the text input by us are not captured in the corpus\n",
        "    input_check = vector_values.flatten()\n",
        "    input_check.sort()\n",
        "    \n",
        "    if input_check[-2] == 0:\n",
        "        return \"Please Try again\"\n",
        "    else: \n",
        "        return answer"
      ],
      "metadata": {
        "id": "6mxBHDIRgPJv"
      },
      "execution_count": null,
      "outputs": []
    },
    {
      "cell_type": "code",
      "source": [
        "print(\"Hello, I am the Cat Chatbot. What is your meow questions?:\")\n",
        "while(True):\n",
        "    query = input().lower()\n",
        "    if query not in ['bye', 'good bye', 'take care']:\n",
        "        print(\"Cat Chatbot: \", end=\"\")\n",
        "        print(chatbot_answer(query))\n",
        "        cat_sentences.remove(query)\n",
        "    else:\n",
        "        print(\"See You Again\")\n",
        "        break"
      ],
      "metadata": {
        "id": "q6CKmx2iga1s"
      },
      "execution_count": null,
      "outputs": []
    },
    {
      "cell_type": "code",
      "source": [
        "with open('/content/AntiScam_all.txt') as f:\n",
        "    lines = f.readlines()\n",
        "    print(lines)"
      ],
      "metadata": {
        "colab": {
          "base_uri": "https://localhost:8080/",
          "height": 329
        },
        "id": "rlsbPH0bhRzF",
        "outputId": "504c28a4-45c1-4aa4-bdaf-7588f753f436"
      },
      "execution_count": null,
      "outputs": [
        {
          "output_type": "error",
          "ename": "UnicodeDecodeError",
          "evalue": "ignored",
          "traceback": [
            "\u001b[0;31m---------------------------------------------------------------------------\u001b[0m",
            "\u001b[0;31mUnicodeDecodeError\u001b[0m                        Traceback (most recent call last)",
            "\u001b[0;32m<ipython-input-14-27194fb90a2d>\u001b[0m in \u001b[0;36m<module>\u001b[0;34m\u001b[0m\n\u001b[1;32m      1\u001b[0m \u001b[0;32mwith\u001b[0m \u001b[0mopen\u001b[0m\u001b[0;34m(\u001b[0m\u001b[0;34m'/content/AntiScam_all.txt'\u001b[0m\u001b[0;34m)\u001b[0m \u001b[0;32mas\u001b[0m \u001b[0mf\u001b[0m\u001b[0;34m:\u001b[0m\u001b[0;34m\u001b[0m\u001b[0;34m\u001b[0m\u001b[0m\n\u001b[0;32m----> 2\u001b[0;31m     \u001b[0mlines\u001b[0m \u001b[0;34m=\u001b[0m \u001b[0mf\u001b[0m\u001b[0;34m.\u001b[0m\u001b[0mreadlines\u001b[0m\u001b[0;34m(\u001b[0m\u001b[0;34m)\u001b[0m\u001b[0;34m\u001b[0m\u001b[0;34m\u001b[0m\u001b[0m\n\u001b[0m\u001b[1;32m      3\u001b[0m     \u001b[0mprint\u001b[0m\u001b[0;34m(\u001b[0m\u001b[0mlines\u001b[0m\u001b[0;34m)\u001b[0m\u001b[0;34m\u001b[0m\u001b[0;34m\u001b[0m\u001b[0m\n",
            "\u001b[0;32m/usr/lib/python3.7/codecs.py\u001b[0m in \u001b[0;36mdecode\u001b[0;34m(self, input, final)\u001b[0m\n\u001b[1;32m    320\u001b[0m         \u001b[0;31m# decode input (taking the buffer into account)\u001b[0m\u001b[0;34m\u001b[0m\u001b[0;34m\u001b[0m\u001b[0;34m\u001b[0m\u001b[0m\n\u001b[1;32m    321\u001b[0m         \u001b[0mdata\u001b[0m \u001b[0;34m=\u001b[0m \u001b[0mself\u001b[0m\u001b[0;34m.\u001b[0m\u001b[0mbuffer\u001b[0m \u001b[0;34m+\u001b[0m \u001b[0minput\u001b[0m\u001b[0;34m\u001b[0m\u001b[0;34m\u001b[0m\u001b[0m\n\u001b[0;32m--> 322\u001b[0;31m         \u001b[0;34m(\u001b[0m\u001b[0mresult\u001b[0m\u001b[0;34m,\u001b[0m \u001b[0mconsumed\u001b[0m\u001b[0;34m)\u001b[0m \u001b[0;34m=\u001b[0m \u001b[0mself\u001b[0m\u001b[0;34m.\u001b[0m\u001b[0m_buffer_decode\u001b[0m\u001b[0;34m(\u001b[0m\u001b[0mdata\u001b[0m\u001b[0;34m,\u001b[0m \u001b[0mself\u001b[0m\u001b[0;34m.\u001b[0m\u001b[0merrors\u001b[0m\u001b[0;34m,\u001b[0m \u001b[0mfinal\u001b[0m\u001b[0;34m)\u001b[0m\u001b[0;34m\u001b[0m\u001b[0;34m\u001b[0m\u001b[0m\n\u001b[0m\u001b[1;32m    323\u001b[0m         \u001b[0;31m# keep undecoded input until the next call\u001b[0m\u001b[0;34m\u001b[0m\u001b[0;34m\u001b[0m\u001b[0;34m\u001b[0m\u001b[0m\n\u001b[1;32m    324\u001b[0m         \u001b[0mself\u001b[0m\u001b[0;34m.\u001b[0m\u001b[0mbuffer\u001b[0m \u001b[0;34m=\u001b[0m \u001b[0mdata\u001b[0m\u001b[0;34m[\u001b[0m\u001b[0mconsumed\u001b[0m\u001b[0;34m:\u001b[0m\u001b[0;34m]\u001b[0m\u001b[0;34m\u001b[0m\u001b[0;34m\u001b[0m\u001b[0m\n",
            "\u001b[0;31mUnicodeDecodeError\u001b[0m: 'utf-8' codec can't decode byte 0xd4 in position 3480: invalid continuation byte"
          ]
        }
      ]
    }
  ]
}